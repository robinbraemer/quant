{
 "cells": [
  {
   "cell_type": "code",
   "execution_count": 17,
   "metadata": {},
   "outputs": [],
   "source": [
    "import datetime\n",
    "\n",
    "import vectorbt as vbt\n",
    "\n",
    "from indicators import DeMarkerOscillator"
   ]
  },
  {
   "cell_type": "code",
   "execution_count": 18,
   "metadata": {
    "pycharm": {
     "name": "#%%\n"
    }
   },
   "outputs": [
    {
     "data": {
      "application/vnd.jupyter.widget-view+json": {
       "model_id": "0b970b79ce1944ac85464966c0dff54b",
       "version_major": 2,
       "version_minor": 0
      },
      "text/plain": [
       "0it [00:00, ?it/s]"
      ]
     },
     "metadata": {},
     "output_type": "display_data"
    }
   ],
   "source": [
    "start_time = datetime.datetime(2021, 6, 1)\n",
    "end_time = datetime.datetime(2021, 9, 1)\n",
    "df = vbt.CCXTData.download_symbol(\"BTCUSDT\", start=start_time, end=end_time, timeframe=\"4h\")"
   ]
  },
  {
   "cell_type": "code",
   "execution_count": 19,
   "metadata": {
    "pycharm": {
     "name": "#%%\n"
    }
   },
   "outputs": [
    {
     "ename": "TypingError",
     "evalue": "Failed in nopython mode pipeline (step: nopython frontend)\n\u001b[1m\u001b[1m\u001b[1m\u001b[1m\u001b[1m\u001b[1mFailed in nopython mode pipeline (step: nopython frontend)\n\u001b[1m\u001b[1mCannot unify Literal[int](0) and array(float64, 1d, C) for 'cumsum.3', defined at /home/robin/miniconda3/envs/learnqlib/lib/python3.8/site-packages/vectorbt/generic/nb.py (622)\n\u001b[1m\nFile \"../../../miniconda3/envs/learnqlib/lib/python3.8/site-packages/vectorbt/generic/nb.py\", line 622:\u001b[0m\n\u001b[1mdef rolling_mean_1d_nb(a: tp.Array1d, window: int, minp: tp.Optional[int] = None) -> tp.Array1d:\n    <source elided>\n        else:\n\u001b[1m            cumsum = cumsum + a[i]\n\u001b[0m            \u001b[1m^\u001b[0m\u001b[0m\n\u001b[0m\n\u001b[0m\u001b[1mDuring: typing of assignment at /home/robin/miniconda3/envs/learnqlib/lib/python3.8/site-packages/vectorbt/generic/nb.py (622)\u001b[0m\n\u001b[1m\nFile \"../../../miniconda3/envs/learnqlib/lib/python3.8/site-packages/vectorbt/generic/nb.py\", line 622:\u001b[0m\n\u001b[1mdef rolling_mean_1d_nb(a: tp.Array1d, window: int, minp: tp.Optional[int] = None) -> tp.Array1d:\n    <source elided>\n        else:\n\u001b[1m            cumsum = cumsum + a[i]\n\u001b[0m            \u001b[1m^\u001b[0m\u001b[0m\n\n\u001b[0m\u001b[1mDuring: resolving callee type: type(CPUDispatcher(<function rolling_mean_1d_nb at 0x7f15a6422670>))\u001b[0m\n\u001b[0m\u001b[1mDuring: typing of call at /home/robin/PycharmProjects/quant/indicators/demarker.py (23)\n\u001b[0m\n\u001b[0m\u001b[1mDuring: resolving callee type: type(CPUDispatcher(<function rolling_mean_1d_nb at 0x7f15a6422670>))\u001b[0m\n\u001b[0m\u001b[1mDuring: typing of call at /home/robin/PycharmProjects/quant/indicators/demarker.py (24)\n\u001b[0m\n\u001b[0m\u001b[1mDuring: resolving callee type: type(CPUDispatcher(<function rolling_mean_1d_nb at 0x7f15a6422670>))\u001b[0m\n\u001b[0m\u001b[1mDuring: typing of call at /home/robin/PycharmProjects/quant/indicators/demarker.py (23)\n\u001b[0m\n\u001b[1m\nFile \"../indicators/demarker.py\", line 23:\u001b[0m\n\u001b[1mdef rolling_demarker_nb(high: tp.Array1d, low: tp.Array1d, period: int) -> tp.Tuple[tp.Array1d, tp.Array1d, tp.Array1d]:\n    <source elided>\n\n\u001b[1m    demax_avg = generic_nb.rolling_mean_1d_nb(demax, period, minp=period)  # sma\n\u001b[0m    \u001b[1m^\u001b[0m\u001b[0m\n",
     "output_type": "error",
     "traceback": [
      "\u001b[0;31m---------------------------------------------------------------------------\u001b[0m",
      "\u001b[0;31mTypingError\u001b[0m                               Traceback (most recent call last)",
      "\u001b[0;32m/tmp/ipykernel_26719/1851791255.py\u001b[0m in \u001b[0;36m<module>\u001b[0;34m\u001b[0m\n\u001b[0;32m----> 1\u001b[0;31m \u001b[0mdem\u001b[0m \u001b[0;34m=\u001b[0m \u001b[0mDeMarkerOscillator\u001b[0m\u001b[0;34m.\u001b[0m\u001b[0mrun\u001b[0m\u001b[0;34m(\u001b[0m\u001b[0mhigh\u001b[0m\u001b[0;34m=\u001b[0m\u001b[0mdf\u001b[0m\u001b[0;34m[\u001b[0m\u001b[0;34m'High'\u001b[0m\u001b[0;34m]\u001b[0m\u001b[0;34m,\u001b[0m \u001b[0mlow\u001b[0m\u001b[0;34m=\u001b[0m\u001b[0mdf\u001b[0m\u001b[0;34m[\u001b[0m\u001b[0;34m'Low'\u001b[0m\u001b[0;34m]\u001b[0m\u001b[0;34m,\u001b[0m \u001b[0mperiod\u001b[0m\u001b[0;34m=\u001b[0m\u001b[0;36m13\u001b[0m\u001b[0;34m)\u001b[0m\u001b[0;34m\u001b[0m\u001b[0;34m\u001b[0m\u001b[0m\n\u001b[0m\u001b[1;32m      2\u001b[0m \u001b[0mdf\u001b[0m\u001b[0;34m[\u001b[0m\u001b[0;34m\"DeM\"\u001b[0m\u001b[0;34m]\u001b[0m \u001b[0;34m=\u001b[0m \u001b[0mdem\u001b[0m\u001b[0;34m.\u001b[0m\u001b[0mdem\u001b[0m\u001b[0;34m\u001b[0m\u001b[0;34m\u001b[0m\u001b[0m\n\u001b[1;32m      3\u001b[0m \u001b[0mdf\u001b[0m\u001b[0;34m\u001b[0m\u001b[0;34m\u001b[0m\u001b[0m\n",
      "\u001b[0;32m~/miniconda3/envs/learnqlib/lib/python3.8/site-packages/vectorbt/indicators/factory.py\u001b[0m in \u001b[0;36mrun\u001b[0;34m(cls, high, low, period, short_name, hide_params, hide_default, **kwargs)\u001b[0m\n\u001b[1;32m     11\u001b[0m \u001b[0;34m\u001b[0m\u001b[0m\n\u001b[1;32m     12\u001b[0m \u001b[0mEach\u001b[0m \u001b[0mindicator\u001b[0m \u001b[0;32mis\u001b[0m \u001b[0mbasically\u001b[0m \u001b[0ma\u001b[0m \u001b[0mpipeline\u001b[0m \u001b[0mthat\u001b[0m\u001b[0;34m:\u001b[0m\u001b[0;34m\u001b[0m\u001b[0;34m\u001b[0m\u001b[0m\n\u001b[0;32m---> 13\u001b[0;31m \u001b[0;34m\u001b[0m\u001b[0m\n\u001b[0m\u001b[1;32m     14\u001b[0m \u001b[0;34m*\u001b[0m \u001b[0mAccepts\u001b[0m \u001b[0ma\u001b[0m \u001b[0mlist\u001b[0m \u001b[0mof\u001b[0m \u001b[0minput\u001b[0m \u001b[0marrays\u001b[0m \u001b[0;34m(\u001b[0m\u001b[0;32mfor\u001b[0m \u001b[0mexample\u001b[0m\u001b[0;34m,\u001b[0m \u001b[0mOHLCV\u001b[0m \u001b[0mdata\u001b[0m\u001b[0;34m)\u001b[0m\u001b[0;34m\u001b[0m\u001b[0;34m\u001b[0m\u001b[0m\n\u001b[1;32m     15\u001b[0m \u001b[0;34m*\u001b[0m \u001b[0mAccepts\u001b[0m \u001b[0ma\u001b[0m \u001b[0mlist\u001b[0m \u001b[0mof\u001b[0m \u001b[0mparameter\u001b[0m \u001b[0marrays\u001b[0m \u001b[0;34m(\u001b[0m\u001b[0;32mfor\u001b[0m \u001b[0mexample\u001b[0m\u001b[0;34m,\u001b[0m \u001b[0mwindow\u001b[0m \u001b[0msize\u001b[0m\u001b[0;34m)\u001b[0m\u001b[0;34m\u001b[0m\u001b[0;34m\u001b[0m\u001b[0m\n",
      "\u001b[0;32m~/miniconda3/envs/learnqlib/lib/python3.8/site-packages/vectorbt/indicators/factory.py\u001b[0m in \u001b[0;36m_run\u001b[0;34m(cls, *args, **kwargs)\u001b[0m\n\u001b[1;32m   2863\u001b[0m \u001b[0;34m\u001b[0m\u001b[0m\n\u001b[1;32m   2864\u001b[0m             \u001b[0;31m# Run the pipeline\u001b[0m\u001b[0;34m\u001b[0m\u001b[0;34m\u001b[0m\u001b[0;34m\u001b[0m\u001b[0m\n\u001b[0;32m-> 2865\u001b[0;31m             results = run_pipeline(\n\u001b[0m\u001b[1;32m   2866\u001b[0m                 \u001b[0mlen\u001b[0m\u001b[0;34m(\u001b[0m\u001b[0moutput_names\u001b[0m\u001b[0;34m)\u001b[0m\u001b[0;34m,\u001b[0m  \u001b[0;31m# number of returned outputs\u001b[0m\u001b[0;34m\u001b[0m\u001b[0;34m\u001b[0m\u001b[0m\n\u001b[1;32m   2867\u001b[0m                 \u001b[0mcustom_func\u001b[0m\u001b[0;34m,\u001b[0m\u001b[0;34m\u001b[0m\u001b[0;34m\u001b[0m\u001b[0m\n",
      "\u001b[0;32m~/miniconda3/envs/learnqlib/lib/python3.8/site-packages/vectorbt/indicators/factory.py\u001b[0m in \u001b[0;36mrun_pipeline\u001b[0;34m(num_ret_outputs, custom_func, require_input_shape, input_shape, input_index, input_columns, input_list, in_output_list, in_output_settings, broadcast_kwargs, param_list, param_product, param_settings, run_unique, silence_warnings, per_column, pass_col, keep_pd, to_2d, as_lists, pass_input_shape, pass_flex_2d, level_names, hide_levels, stacking_kwargs, return_raw, use_raw, wrapper_kwargs, seed, *args, **kwargs)\u001b[0m\n\u001b[1;32m   1878\u001b[0m                 \u001b[0moutput\u001b[0m\u001b[0;34m.\u001b[0m\u001b[0mappend\u001b[0m\u001b[0;34m(\u001b[0m\u001b[0mcol_output\u001b[0m\u001b[0;34m)\u001b[0m\u001b[0;34m\u001b[0m\u001b[0;34m\u001b[0m\u001b[0m\n\u001b[1;32m   1879\u001b[0m         \u001b[0;32melse\u001b[0m\u001b[0;34m:\u001b[0m\u001b[0;34m\u001b[0m\u001b[0;34m\u001b[0m\u001b[0m\n\u001b[0;32m-> 1880\u001b[0;31m             output = _call_custom_func(\n\u001b[0m\u001b[1;32m   1881\u001b[0m                 \u001b[0minput_list_ready\u001b[0m\u001b[0;34m,\u001b[0m\u001b[0;34m\u001b[0m\u001b[0;34m\u001b[0m\u001b[0m\n\u001b[1;32m   1882\u001b[0m                 \u001b[0min_output_list_ready\u001b[0m\u001b[0;34m,\u001b[0m\u001b[0;34m\u001b[0m\u001b[0;34m\u001b[0m\u001b[0m\n",
      "\u001b[0;32m~/miniconda3/envs/learnqlib/lib/python3.8/site-packages/vectorbt/indicators/factory.py\u001b[0m in \u001b[0;36m_call_custom_func\u001b[0;34m(_input_list_ready, _in_output_list_ready, _param_list_ready, *_func_args, **_func_kwargs)\u001b[0m\n\u001b[1;32m   1818\u001b[0m                         \u001b[0;34m*\u001b[0m\u001b[0m_func_args\u001b[0m\u001b[0;34m,\u001b[0m \u001b[0;34m**\u001b[0m\u001b[0m_func_kwargs\u001b[0m\u001b[0;34m\u001b[0m\u001b[0;34m\u001b[0m\u001b[0m\n\u001b[1;32m   1819\u001b[0m                     )\n\u001b[0;32m-> 1820\u001b[0;31m                 return custom_func(\n\u001b[0m\u001b[1;32m   1821\u001b[0m                     \u001b[0m_input_list_ready\u001b[0m\u001b[0;34m,\u001b[0m\u001b[0;34m\u001b[0m\u001b[0;34m\u001b[0m\u001b[0m\n\u001b[1;32m   1822\u001b[0m                     \u001b[0m_in_output_list_ready\u001b[0m\u001b[0;34m,\u001b[0m\u001b[0;34m\u001b[0m\u001b[0;34m\u001b[0m\u001b[0m\n",
      "\u001b[0;32m~/miniconda3/envs/learnqlib/lib/python3.8/site-packages/vectorbt/indicators/factory.py\u001b[0m in \u001b[0;36mcustom_func\u001b[0;34m(input_list, in_output_list, param_list, input_shape, col, flex_2d, return_cache, use_cache, use_ray, *args, **_kwargs)\u001b[0m\n\u001b[1;32m   3368\u001b[0m                 \u001b[0m_param_tuples\u001b[0m \u001b[0;34m=\u001b[0m \u001b[0;34m(\u001b[0m\u001b[0;34m)\u001b[0m\u001b[0;34m\u001b[0m\u001b[0;34m\u001b[0m\u001b[0m\n\u001b[1;32m   3369\u001b[0m \u001b[0;34m\u001b[0m\u001b[0m\n\u001b[0;32m-> 3370\u001b[0;31m             return apply_and_concat_func(\n\u001b[0m\u001b[1;32m   3371\u001b[0m                 \u001b[0mn_params\u001b[0m\u001b[0;34m,\u001b[0m\u001b[0;34m\u001b[0m\u001b[0;34m\u001b[0m\u001b[0m\n\u001b[1;32m   3372\u001b[0m                 \u001b[0mselect_params_func\u001b[0m\u001b[0;34m,\u001b[0m\u001b[0;34m\u001b[0m\u001b[0;34m\u001b[0m\u001b[0m\n",
      "\u001b[0;32m~/miniconda3/envs/learnqlib/lib/python3.8/site-packages/vectorbt/base/combine_fns.py\u001b[0m in \u001b[0;36mapply_and_concat_multiple\u001b[0;34m(n, apply_func, show_progress, tqdm_kwargs, *args, **kwargs)\u001b[0m\n\u001b[1;32m    107\u001b[0m     \u001b[0moutputs\u001b[0m \u001b[0;34m=\u001b[0m \u001b[0;34m[\u001b[0m\u001b[0;34m]\u001b[0m\u001b[0;34m\u001b[0m\u001b[0;34m\u001b[0m\u001b[0m\n\u001b[1;32m    108\u001b[0m     \u001b[0;32mfor\u001b[0m \u001b[0mi\u001b[0m \u001b[0;32min\u001b[0m \u001b[0mtqdm\u001b[0m\u001b[0;34m(\u001b[0m\u001b[0mrange\u001b[0m\u001b[0;34m(\u001b[0m\u001b[0mn\u001b[0m\u001b[0;34m)\u001b[0m\u001b[0;34m,\u001b[0m \u001b[0mdisable\u001b[0m\u001b[0;34m=\u001b[0m\u001b[0;32mnot\u001b[0m \u001b[0mshow_progress\u001b[0m\u001b[0;34m,\u001b[0m \u001b[0;34m**\u001b[0m\u001b[0mtqdm_kwargs\u001b[0m\u001b[0;34m)\u001b[0m\u001b[0;34m:\u001b[0m\u001b[0;34m\u001b[0m\u001b[0;34m\u001b[0m\u001b[0m\n\u001b[0;32m--> 109\u001b[0;31m         \u001b[0moutputs\u001b[0m\u001b[0;34m.\u001b[0m\u001b[0mappend\u001b[0m\u001b[0;34m(\u001b[0m\u001b[0mtuple\u001b[0m\u001b[0;34m(\u001b[0m\u001b[0mmap\u001b[0m\u001b[0;34m(\u001b[0m\u001b[0mreshape_fns\u001b[0m\u001b[0;34m.\u001b[0m\u001b[0mto_2d\u001b[0m\u001b[0;34m,\u001b[0m \u001b[0mapply_func\u001b[0m\u001b[0;34m(\u001b[0m\u001b[0mi\u001b[0m\u001b[0;34m,\u001b[0m \u001b[0;34m*\u001b[0m\u001b[0margs\u001b[0m\u001b[0;34m,\u001b[0m \u001b[0;34m**\u001b[0m\u001b[0mkwargs\u001b[0m\u001b[0;34m)\u001b[0m\u001b[0;34m)\u001b[0m\u001b[0;34m)\u001b[0m\u001b[0;34m)\u001b[0m\u001b[0;34m\u001b[0m\u001b[0;34m\u001b[0m\u001b[0m\n\u001b[0m\u001b[1;32m    110\u001b[0m     \u001b[0;32mreturn\u001b[0m \u001b[0mlist\u001b[0m\u001b[0;34m(\u001b[0m\u001b[0mmap\u001b[0m\u001b[0;34m(\u001b[0m\u001b[0mnp\u001b[0m\u001b[0;34m.\u001b[0m\u001b[0mcolumn_stack\u001b[0m\u001b[0;34m,\u001b[0m \u001b[0mlist\u001b[0m\u001b[0;34m(\u001b[0m\u001b[0mzip\u001b[0m\u001b[0;34m(\u001b[0m\u001b[0;34m*\u001b[0m\u001b[0moutputs\u001b[0m\u001b[0;34m)\u001b[0m\u001b[0;34m)\u001b[0m\u001b[0;34m)\u001b[0m\u001b[0;34m)\u001b[0m\u001b[0;34m\u001b[0m\u001b[0;34m\u001b[0m\u001b[0m\n\u001b[1;32m    111\u001b[0m \u001b[0;34m\u001b[0m\u001b[0m\n",
      "\u001b[0;32m~/miniconda3/envs/learnqlib/lib/python3.8/site-packages/vectorbt/indicators/factory.py\u001b[0m in \u001b[0;36mselect_params_func\u001b[0;34m(i, args_before, input_tuple, param_tuples, *args, **_kwargs)\u001b[0m\n\u001b[1;32m      1\u001b[0m \u001b[0;31m# Copyright (c) 2021 Oleg Polakow. All rights reserved.\u001b[0m\u001b[0;34m\u001b[0m\u001b[0;34m\u001b[0m\u001b[0;34m\u001b[0m\u001b[0m\n\u001b[0;32m----> 2\u001b[0;31m \u001b[0;31m# This code is licensed under Apache 2.0 with Commons Clause license (see LICENSE.md for details)\u001b[0m\u001b[0;34m\u001b[0m\u001b[0;34m\u001b[0m\u001b[0;34m\u001b[0m\u001b[0m\n\u001b[0m\u001b[1;32m      3\u001b[0m \u001b[0;34m\u001b[0m\u001b[0m\n\u001b[1;32m      4\u001b[0m \"\"\"A factory for building new indicators with ease.\n\u001b[1;32m      5\u001b[0m \u001b[0;34m\u001b[0m\u001b[0m\n",
      "\u001b[0;32m~/miniconda3/envs/learnqlib/lib/python3.8/site-packages/numba/core/dispatcher.py\u001b[0m in \u001b[0;36m_compile_for_args\u001b[0;34m(self, *args, **kws)\u001b[0m\n\u001b[1;32m    418\u001b[0m                 \u001b[0me\u001b[0m\u001b[0;34m.\u001b[0m\u001b[0mpatch_message\u001b[0m\u001b[0;34m(\u001b[0m\u001b[0mmsg\u001b[0m\u001b[0;34m)\u001b[0m\u001b[0;34m\u001b[0m\u001b[0;34m\u001b[0m\u001b[0m\n\u001b[1;32m    419\u001b[0m \u001b[0;34m\u001b[0m\u001b[0m\n\u001b[0;32m--> 420\u001b[0;31m             \u001b[0merror_rewrite\u001b[0m\u001b[0;34m(\u001b[0m\u001b[0me\u001b[0m\u001b[0;34m,\u001b[0m \u001b[0;34m'typing'\u001b[0m\u001b[0;34m)\u001b[0m\u001b[0;34m\u001b[0m\u001b[0;34m\u001b[0m\u001b[0m\n\u001b[0m\u001b[1;32m    421\u001b[0m         \u001b[0;32mexcept\u001b[0m \u001b[0merrors\u001b[0m\u001b[0;34m.\u001b[0m\u001b[0mUnsupportedError\u001b[0m \u001b[0;32mas\u001b[0m \u001b[0me\u001b[0m\u001b[0;34m:\u001b[0m\u001b[0;34m\u001b[0m\u001b[0;34m\u001b[0m\u001b[0m\n\u001b[1;32m    422\u001b[0m             \u001b[0;31m# Something unsupported is present in the user code, add help info\u001b[0m\u001b[0;34m\u001b[0m\u001b[0;34m\u001b[0m\u001b[0;34m\u001b[0m\u001b[0m\n",
      "\u001b[0;32m~/miniconda3/envs/learnqlib/lib/python3.8/site-packages/numba/core/dispatcher.py\u001b[0m in \u001b[0;36merror_rewrite\u001b[0;34m(e, issue_type)\u001b[0m\n\u001b[1;32m    359\u001b[0m                 \u001b[0;32mraise\u001b[0m \u001b[0me\u001b[0m\u001b[0;34m\u001b[0m\u001b[0;34m\u001b[0m\u001b[0m\n\u001b[1;32m    360\u001b[0m             \u001b[0;32melse\u001b[0m\u001b[0;34m:\u001b[0m\u001b[0;34m\u001b[0m\u001b[0;34m\u001b[0m\u001b[0m\n\u001b[0;32m--> 361\u001b[0;31m                 \u001b[0;32mraise\u001b[0m \u001b[0me\u001b[0m\u001b[0;34m.\u001b[0m\u001b[0mwith_traceback\u001b[0m\u001b[0;34m(\u001b[0m\u001b[0;32mNone\u001b[0m\u001b[0;34m)\u001b[0m\u001b[0;34m\u001b[0m\u001b[0;34m\u001b[0m\u001b[0m\n\u001b[0m\u001b[1;32m    362\u001b[0m \u001b[0;34m\u001b[0m\u001b[0m\n\u001b[1;32m    363\u001b[0m         \u001b[0margtypes\u001b[0m \u001b[0;34m=\u001b[0m \u001b[0;34m[\u001b[0m\u001b[0;34m]\u001b[0m\u001b[0;34m\u001b[0m\u001b[0;34m\u001b[0m\u001b[0m\n",
      "\u001b[0;31mTypingError\u001b[0m: Failed in nopython mode pipeline (step: nopython frontend)\n\u001b[1m\u001b[1m\u001b[1m\u001b[1m\u001b[1m\u001b[1mFailed in nopython mode pipeline (step: nopython frontend)\n\u001b[1m\u001b[1mCannot unify Literal[int](0) and array(float64, 1d, C) for 'cumsum.3', defined at /home/robin/miniconda3/envs/learnqlib/lib/python3.8/site-packages/vectorbt/generic/nb.py (622)\n\u001b[1m\nFile \"../../../miniconda3/envs/learnqlib/lib/python3.8/site-packages/vectorbt/generic/nb.py\", line 622:\u001b[0m\n\u001b[1mdef rolling_mean_1d_nb(a: tp.Array1d, window: int, minp: tp.Optional[int] = None) -> tp.Array1d:\n    <source elided>\n        else:\n\u001b[1m            cumsum = cumsum + a[i]\n\u001b[0m            \u001b[1m^\u001b[0m\u001b[0m\n\u001b[0m\n\u001b[0m\u001b[1mDuring: typing of assignment at /home/robin/miniconda3/envs/learnqlib/lib/python3.8/site-packages/vectorbt/generic/nb.py (622)\u001b[0m\n\u001b[1m\nFile \"../../../miniconda3/envs/learnqlib/lib/python3.8/site-packages/vectorbt/generic/nb.py\", line 622:\u001b[0m\n\u001b[1mdef rolling_mean_1d_nb(a: tp.Array1d, window: int, minp: tp.Optional[int] = None) -> tp.Array1d:\n    <source elided>\n        else:\n\u001b[1m            cumsum = cumsum + a[i]\n\u001b[0m            \u001b[1m^\u001b[0m\u001b[0m\n\n\u001b[0m\u001b[1mDuring: resolving callee type: type(CPUDispatcher(<function rolling_mean_1d_nb at 0x7f15a6422670>))\u001b[0m\n\u001b[0m\u001b[1mDuring: typing of call at /home/robin/PycharmProjects/quant/indicators/demarker.py (23)\n\u001b[0m\n\u001b[0m\u001b[1mDuring: resolving callee type: type(CPUDispatcher(<function rolling_mean_1d_nb at 0x7f15a6422670>))\u001b[0m\n\u001b[0m\u001b[1mDuring: typing of call at /home/robin/PycharmProjects/quant/indicators/demarker.py (24)\n\u001b[0m\n\u001b[0m\u001b[1mDuring: resolving callee type: type(CPUDispatcher(<function rolling_mean_1d_nb at 0x7f15a6422670>))\u001b[0m\n\u001b[0m\u001b[1mDuring: typing of call at /home/robin/PycharmProjects/quant/indicators/demarker.py (23)\n\u001b[0m\n\u001b[1m\nFile \"../indicators/demarker.py\", line 23:\u001b[0m\n\u001b[1mdef rolling_demarker_nb(high: tp.Array1d, low: tp.Array1d, period: int) -> tp.Tuple[tp.Array1d, tp.Array1d, tp.Array1d]:\n    <source elided>\n\n\u001b[1m    demax_avg = generic_nb.rolling_mean_1d_nb(demax, period, minp=period)  # sma\n\u001b[0m    \u001b[1m^\u001b[0m\u001b[0m\n"
     ]
    }
   ],
   "source": [
    "dem = DeMarkerOscillator.run(high=df['High'], low=df['Low'], period=13)\n",
    "df[\"DeM\"] = dem.dem\n",
    "df"
   ]
  },
  {
   "cell_type": "code",
   "execution_count": null,
   "metadata": {
    "pycharm": {
     "name": "#%%\n"
    }
   },
   "outputs": [],
   "source": [
    "fig = df.vbt.ohlcv.plots(\n",
    "    settings=dict(plot_type='candlestick')\n",
    ").show()\n",
    "df['DeM'].vbt.plot().add_hline(y=0.7).add_hline(y=0.3).show()\n",
    "\n"
   ]
  },
  {
   "cell_type": "code",
   "execution_count": null,
   "metadata": {
    "pycharm": {
     "name": "#%%\n"
    }
   },
   "outputs": [],
   "source": [
    "entries = dem.dem_above(0.3, crossover=True)\n",
    "exits = dem.dem_below(0.7, crossover=True)\n",
    "short_entries = dem.dem_below(0.7, crossover=True)\n",
    "short_exits = dem.dem_above(0.3, crossover=True)"
   ]
  },
  {
   "cell_type": "code",
   "execution_count": null,
   "metadata": {
    "pycharm": {
     "name": "#%%\n"
    }
   },
   "outputs": [],
   "source": [
    "vbt.settings.portfolio.init_cash = 1000\n",
    "vbt.settings.portfolio.fees = 0.0025\n",
    "pf = vbt.Portfolio.from_signals(df['Close'],\n",
    "                                direction='both',\n",
    "                                entries=entries,\n",
    "                                exits=exits,\n",
    "                                # short_entries=short_entries,\n",
    "                                # short_exits=short_exits,\n",
    "                                # tp_stop=0.035,\n",
    "                                # sl_trail=0.1\n",
    "                                )\n",
    "print(pf.init_cash + pf.total_profit())\n",
    "pf.plot().show()"
   ]
  },
  {
   "cell_type": "code",
   "execution_count": null,
   "metadata": {
    "pycharm": {
     "name": "#%%\n"
    }
   },
   "outputs": [],
   "source": []
  }
 ],
 "metadata": {
  "kernelspec": {
   "display_name": "Python 3 (ipykernel)",
   "language": "python",
   "name": "python3"
  },
  "language_info": {
   "codemirror_mode": {
    "name": "ipython",
    "version": 3
   },
   "file_extension": ".py",
   "mimetype": "text/x-python",
   "name": "python",
   "nbconvert_exporter": "python",
   "pygments_lexer": "ipython3",
   "version": "3.8.11"
  }
 },
 "nbformat": 4,
 "nbformat_minor": 1
}
